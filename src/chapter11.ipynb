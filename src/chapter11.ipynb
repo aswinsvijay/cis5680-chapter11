{
 "cells": [
  {
   "cell_type": "markdown",
   "id": "e5bc428c-c93f-4d75-95f1-7535ea8e50f7",
   "metadata": {},
   "source": [
    "# Assignment for Chapter 11"
   ]
  },
  {
   "cell_type": "markdown",
   "id": "987b210f-91d2-4c23-938b-b1e2f8860ff4",
   "metadata": {},
   "source": [
    "### Problem 6.1"
   ]
  },
  {
   "cell_type": "code",
   "execution_count": 3,
   "id": "b2407397-e9cc-416a-9160-f9ce40675a94",
   "metadata": {},
   "outputs": [],
   "source": [
    "import pandas as pd"
   ]
  },
  {
   "cell_type": "code",
   "execution_count": 4,
   "id": "046672d1-c2c9-415a-b559-51c59cb26e90",
   "metadata": {},
   "outputs": [
    {
     "name": "stdout",
     "output_type": "stream",
     "text": [
      "Code for problem 6.1\n"
     ]
    }
   ],
   "source": [
    "print('Code for problem 6.1')"
   ]
  },
  {
   "cell_type": "code",
   "execution_count": null,
   "id": "4bcbf1a2-984b-419a-853b-2fe7802a6070",
   "metadata": {},
   "outputs": [],
   "source": []
  }
 ],
 "metadata": {
  "kernelspec": {
   "display_name": "conda_python3",
   "language": "python",
   "name": "conda_python3"
  },
  "language_info": {
   "codemirror_mode": {
    "name": "ipython",
    "version": 3
   },
   "file_extension": ".py",
   "mimetype": "text/x-python",
   "name": "python",
   "nbconvert_exporter": "python",
   "pygments_lexer": "ipython3",
   "version": "3.10.16"
  }
 },
 "nbformat": 4,
 "nbformat_minor": 5
}
